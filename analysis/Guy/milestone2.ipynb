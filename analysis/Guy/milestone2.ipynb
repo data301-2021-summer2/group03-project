{
 "cells": [
  {
   "cell_type": "code",
   "execution_count": 44,
   "id": "694c5e32",
   "metadata": {},
   "outputs": [],
   "source": [
    "import os\n",
    "import pandas as pd\n",
    "import numpy as np\n",
    "import matplotlib.pyplot as plt\n",
    "import seaborn as sns\n",
    "import sys\n",
    "sys.path.append('../scripts/')\n",
    "import project_functions as pf"
   ]
  },
  {
   "cell_type": "code",
   "execution_count": 53,
   "id": "136e18f5",
   "metadata": {},
   "outputs": [],
   "source": [
    "def returnList(df, column):\n",
    "    return df[column].tolist()\n",
    "\n",
    "def countOccurances(listOfGenres):\n",
    "    counts = {}\n",
    "    for key in listOfGenres:\n",
    "        if key in counts:\n",
    "            counts[key] += 1\n",
    "        else:\n",
    "            counts[key] = 1\n",
    "    return counts\n",
    "\n",
    "def countWordsInDict(dictonary):\n",
    "    counts = {}\n",
    "    for key in dictonary:\n",
    "        words = key.split(', ')\n",
    "        for word in words:\n",
    "            if word in counts:\n",
    "                counts[word] += 1\n",
    "            else:\n",
    "                counts[word] = 1\n",
    "    return counts"
   ]
  },
  {
   "cell_type": "code",
   "execution_count": 54,
   "id": "b89322b6",
   "metadata": {},
   "outputs": [
    {
     "name": "stdout",
     "output_type": "stream",
     "text": [
      "{'Action': 1772, 'Adventure': 1197, 'Comedy': 1937, 'Drama': 1270, 'Sci-Fi': 1246, 'Space': 275, 'Mystery': 459, 'Shounen': 927, 'Police': 150, 'Supernatural': 908, 'Magic': 592, 'Fantasy': 1271, 'Sports': 260, 'Josei': 67, 'Romance': 1075, 'Slice of Life': 552, 'Cars': 68, 'Seinen': 427, 'Horror': 318, 'Psychological': 253, 'Thriller': 104, 'Super Power': 373, 'Martial Arts': 265, 'School': 728, 'Ecchi': 462, 'Vampire': 105, 'Military': 321, 'Historical': 542, 'Dementia': 90, 'Mecha': 511, 'Demons': 319, 'Samurai': 139, 'Game': 195, 'Shoujo': 364, 'Harem': 259, 'Music': 362, 'Shoujo Ai': 59, 'Shounen Ai': 64, 'Kids': 467, 'Hentai': 177, 'Parody': 276, 'Yuri': 8, 'Yaoi': 22, 'Unknown': 1}\n"
     ]
    }
   ],
   "source": [
    "# Method Chaining\n",
    "# Loading data\n",
    "df = pd.read_csv('../../data/raw/anime.csv')\n",
    "# df\n",
    "cntOcc = countOccurances(returnList(df, 'Genres'))\n",
    "# print(cntOcc)\n",
    "print(countWordsInDict(cntOcc))"
   ]
  },
  {
   "cell_type": "code",
   "execution_count": null,
   "id": "5b21cc7e",
   "metadata": {},
   "outputs": [],
   "source": []
  }
 ],
 "metadata": {
  "kernelspec": {
   "display_name": "Python 3 (ipykernel)",
   "language": "python",
   "name": "python3"
  },
  "language_info": {
   "codemirror_mode": {
    "name": "ipython",
    "version": 3
   },
   "file_extension": ".py",
   "mimetype": "text/x-python",
   "name": "python",
   "nbconvert_exporter": "python",
   "pygments_lexer": "ipython3",
   "version": "3.8.5"
  }
 },
 "nbformat": 4,
 "nbformat_minor": 5
}
