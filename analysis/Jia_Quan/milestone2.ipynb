{
 "cells": [
  {
   "cell_type": "markdown",
   "id": "9646d22c",
   "metadata": {},
   "source": [
    "# Task 1. Set up an “Analysis Pipeline” (20%)¶\n",
    "Each person in a group should do this Task in their own Jupyter notebook!\n",
    "\n",
    "Often when Data Scientists do analyses with the same or similar datasets, they set up an “analysis pipeline”. This has several advantages:\n",
    "\n",
    "* record the steps so you can remember what you did.\n",
    "\n",
    "* allows you to repeat the steps reproducibly, without doing a bunch of manual and repetitive work.\n",
    "\n",
    "* make changes to thes series of processing steps so you can improve and iterate.\n",
    "\n",
    "* troubleshoot and debug errors in your processing.\n",
    "\n",
    "* allows others to reproduce your analysis.\n",
    "\n",
    "* if your data changes, you can update your outputs (report, images, etc…) easily without redoing all your processing.\n",
    "\n",
    "* allows you to spend more effort and energy on your analysis and visualizations (if you do a good job with the pipeline).\n",
    "\n"
   ]
  },
  {
   "cell_type": "markdown",
   "id": "d41ebce5",
   "metadata": {},
   "source": [
    "# Analysis Pipeline\n",
    "1. Load Data\n",
    "\n",
    "* Load data using `pandas.read_csv` with raw data at `data/raw/anime.csv`\n",
    "\n",
    "* delimiters (space, comma, tab) are handled by Pandas\n",
    "\n",
    "* Skip rows that have `Unknown` data\n",
    "\n",
    "2. Clean Data\n",
    "\n",
    "* Remove columns not being used like `['MAL_ID','Producers', 'Licensors', 'English name', 'Japanese name'`\n",
    "\n",
    "* Deal with “incorrect” data like converting `Duration` into Minutes rather than string with the function `convert(episodeLength)`.\n",
    "\n",
    "* Deal with missing data by using `dropna` to remove `NaN` valued data.\n",
    "\n",
    "3. Process Data\n",
    "\n",
    "* Create any new columns needed that are combinations or aggregates of other columns (examples include weighted averages, categorizations, groups, etc…).\n",
    "\n",
    "* Find and replace operations (examples inlcude replacing the string ‘Strongly Agree’ with the number 5).\n",
    "\n",
    "* Other substitutions as needed.\n",
    "\n",
    "* Deal with outliers.\n",
    "\n",
    "4. Wrangle Data\n",
    "\n",
    "* Restructure data format (columns and rows).\n",
    "\n",
    "* Merge other data sources into your dataset.\n",
    "\n",
    "* Exploratory Data Analysis (not required for this Task).\n",
    "\n",
    "* Data Analysis (not required for this Task).\n",
    "\n",
    "* Export reports/data analyses and visualizations (not required for this Task).\n",
    "\n"
   ]
  },
  {
   "cell_type": "code",
   "execution_count": null,
   "id": "188066e8",
   "metadata": {},
   "outputs": [],
   "source": [
    "#Import depedancies\n",
    "import os\n",
    "import pandas as pd\n",
    "import numpy as np\n",
    "import matplotlib.pyplot as plt\n",
    "import seaborn as sns\n",
    "\n",
    "from scripts import *"
   ]
  },
  {
   "cell_type": "code",
   "execution_count": 3,
   "id": "b9900322",
   "metadata": {},
   "outputs": [
    {
     "ename": "NameError",
     "evalue": "name 'project_functions' is not defined",
     "output_type": "error",
     "traceback": [
      "\u001b[1;31m---------------------------------------------------------------------------\u001b[0m",
      "\u001b[1;31mNameError\u001b[0m                                 Traceback (most recent call last)",
      "\u001b[1;32mC:\\Users\\GUYUSH~1\\AppData\\Local\\Temp/ipykernel_12976/3482101769.py\u001b[0m in \u001b[0;36m<module>\u001b[1;34m\u001b[0m\n\u001b[0;32m      4\u001b[0m \u001b[1;33m\u001b[0m\u001b[0m\n\u001b[0;32m      5\u001b[0m \u001b[1;31m#load and process\u001b[0m\u001b[1;33m\u001b[0m\u001b[1;33m\u001b[0m\u001b[1;33m\u001b[0m\u001b[0m\n\u001b[1;32m----> 6\u001b[1;33m \u001b[0mproject_functions\u001b[0m\u001b[1;33m.\u001b[0m\u001b[0mload_and_process\u001b[0m\u001b[1;33m(\u001b[0m\u001b[0mdf\u001b[0m\u001b[1;33m)\u001b[0m\u001b[1;33m\u001b[0m\u001b[1;33m\u001b[0m\u001b[0m\n\u001b[0m",
      "\u001b[1;31mNameError\u001b[0m: name 'project_functions' is not defined"
     ]
    }
   ],
   "source": [
    "# Method Chaining\n",
    "# Loading data\n",
    "df = pd.read_csv('../../data/raw/anime.csv')\n",
    "\n",
    "#load and process\n",
    "project_functions.load_and_process(df)"
   ]
  },
  {
   "cell_type": "code",
   "execution_count": null,
   "id": "a95e9d09",
   "metadata": {},
   "outputs": [],
   "source": []
  }
 ],
 "metadata": {
  "interpreter": {
   "hash": "5ee820356fc0f16094593799c49128c836dd55b9c9bfc42e3ae4ee80ac9a6f87"
  },
  "kernelspec": {
   "display_name": "Python 3 (ipykernel)",
   "language": "python",
   "name": "python3"
  },
  "language_info": {
   "codemirror_mode": {
    "name": "ipython",
    "version": 3
   },
   "file_extension": ".py",
   "mimetype": "text/x-python",
   "name": "python",
   "nbconvert_exporter": "python",
   "pygments_lexer": "ipython3",
   "version": "3.8.5"
  }
 },
 "nbformat": 4,
 "nbformat_minor": 5
}
